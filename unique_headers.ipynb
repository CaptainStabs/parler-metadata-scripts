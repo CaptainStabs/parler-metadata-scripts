{
 "cells": [
  {
   "cell_type": "code",
   "execution_count": 6,
   "id": "f9e8e01d",
   "metadata": {},
   "outputs": [],
   "source": [
    "import json\n",
    "from pathlib import Path\n",
    "import csv\n",
    "import pandas as pd\n",
    "from tqdm import tqdm"
   ]
  },
  {
   "cell_type": "code",
   "execution_count": 7,
   "id": "8cf7a1a6",
   "metadata": {},
   "outputs": [],
   "source": [
    "\n",
    "input_dir = Path(\"metadata\")\n",
    "json_files = list(input_dir.glob(\"*.json\"))\n",
    "\n",
    "all_keys = set()"
   ]
  },
  {
   "cell_type": "code",
   "execution_count": null,
   "id": "acfa01bb",
   "metadata": {},
   "outputs": [
    {
     "name": "stdout",
     "output_type": "stream",
     "text": [
      "Error reading metadata\\meta-01tjNglj83ad.json: 'charmap' codec can't decode byte 0x90 in position 1671: character maps to <undefined>\n",
      "Error reading metadata\\meta-05BgbSTRCOPc.json: 'charmap' codec can't decode byte 0x90 in position 7099: character maps to <undefined>\n",
      "Error reading metadata\\meta-060IYD0Wi37A.json: 'charmap' codec can't decode byte 0x81 in position 7157: character maps to <undefined>\n",
      "Error reading metadata\\meta-07k3uAn5T6kO.json: 'charmap' codec can't decode byte 0x9d in position 4808: character maps to <undefined>\n"
     ]
    },
    {
     "name": "stderr",
     "output_type": "stream",
     "text": [
      "  0%|▌                                                                                                                                                                                                                             | 2723/1032524 [00:00<00:38, 26798.05it/s]"
     ]
    },
    {
     "name": "stdout",
     "output_type": "stream",
     "text": [
      "Error reading metadata\\meta-0ABsqqmfLBze.json: 'charmap' codec can't decode byte 0x90 in position 1640: character maps to <undefined>\n",
      "Error reading metadata\\meta-0AzlHMN5CW6j.json: 'charmap' codec can't decode byte 0x81 in position 15951: character maps to <undefined>\n",
      "Error reading metadata\\meta-0BmaYK6noQDm.json: 'charmap' codec can't decode byte 0x9d in position 18099: character maps to <undefined>\n"
     ]
    },
    {
     "name": "stderr",
     "output_type": "stream",
     "text": [
      "  1%|█▏                                                                                                                                                                                                                             | 5403/1032524 [00:01<03:45, 4553.23it/s]"
     ]
    },
    {
     "name": "stdout",
     "output_type": "stream",
     "text": [
      "Error reading metadata\\meta-0GCR5uWeqKbV.json: 'charmap' codec can't decode byte 0x81 in position 23589: character maps to <undefined>\n",
      "Error reading metadata\\meta-0gPkggTT1RRL.json: 'charmap' codec can't decode byte 0x81 in position 6729: character maps to <undefined>\n",
      "Error reading metadata\\meta-0Hwr3nERiBhn.json: 'charmap' codec can't decode byte 0x9d in position 18099: character maps to <undefined>\n"
     ]
    },
    {
     "name": "stderr",
     "output_type": "stream",
     "text": [
      "  1%|█▍                                                                                                                                                                                                                             | 6675/1032524 [00:01<04:19, 3955.99it/s]"
     ]
    },
    {
     "name": "stdout",
     "output_type": "stream",
     "text": [
      "Error reading metadata\\meta-0jZUzB6CXQij.json: 'charmap' codec can't decode byte 0x81 in position 1680: character maps to <undefined>\n",
      "Error reading metadata\\meta-0kgwm7HF869u.json: 'charmap' codec can't decode byte 0x90 in position 5245: character maps to <undefined>\n",
      "Error reading metadata\\meta-0KjlWF3cvuMv.json: 'charmap' codec can't decode byte 0x8f in position 4029: character maps to <undefined>\n",
      "Error reading metadata\\meta-0km9NM4Xt1Rc.json: 'charmap' codec can't decode byte 0x81 in position 8941: character maps to <undefined>\n"
     ]
    },
    {
     "name": "stderr",
     "output_type": "stream",
     "text": [
      "  1%|█▊                                                                                                                                                                                                                             | 8607/1032524 [00:02<05:07, 3331.36it/s]"
     ]
    },
    {
     "name": "stdout",
     "output_type": "stream",
     "text": [
      "Error reading metadata\\meta-0Nt9SQjcJoku.json: 'charmap' codec can't decode byte 0x8d in position 67877: character maps to <undefined>\n",
      "Error reading metadata\\meta-0ozeJQh49gBx.json: 'charmap' codec can't decode byte 0x8f in position 6250: character maps to <undefined>\n"
     ]
    },
    {
     "name": "stderr",
     "output_type": "stream",
     "text": [
      "  1%|██▏                                                                                                                                                                                                                           | 10345/1032524 [00:02<06:20, 2684.03it/s]"
     ]
    },
    {
     "name": "stdout",
     "output_type": "stream",
     "text": [
      "Error reading metadata\\meta-0S1qINs4Jk64.json: 'charmap' codec can't decode byte 0x8d in position 4083: character maps to <undefined>\n"
     ]
    },
    {
     "name": "stderr",
     "output_type": "stream",
     "text": [
      "  1%|██▍                                                                                                                                                                                                                           | 11476/1032524 [00:03<06:32, 2598.35it/s]"
     ]
    },
    {
     "name": "stdout",
     "output_type": "stream",
     "text": [
      "Error reading metadata\\meta-0UDAkAEofQVP.json: 'charmap' codec can't decode byte 0x81 in position 9353: character maps to <undefined>\n",
      "Error reading metadata\\meta-0ujWoXSbVHzU.json: 'charmap' codec can't decode byte 0x81 in position 8824: character maps to <undefined>\n",
      "Error reading metadata\\meta-0vFsViU7zKSd.json: 'charmap' codec can't decode byte 0x8f in position 3766: character maps to <undefined>\n",
      "Error reading metadata\\meta-0ViysQM8m67y.json: 'charmap' codec can't decode byte 0x8d in position 6335: character maps to <undefined>\n"
     ]
    },
    {
     "name": "stderr",
     "output_type": "stream",
     "text": [
      "  1%|██▊                                                                                                                                                                                                                           | 13322/1032524 [00:04<06:46, 2505.60it/s]"
     ]
    },
    {
     "name": "stdout",
     "output_type": "stream",
     "text": [
      "Error reading metadata\\meta-0yGxacF1zRo8.json: 'charmap' codec can't decode byte 0x90 in position 1671: character maps to <undefined>\n",
      "Error reading metadata\\meta-0ZKfrWwB3VWZ.json: 'charmap' codec can't decode byte 0x9d in position 1673: character maps to <undefined>\n",
      "Error reading metadata\\meta-0zMlmwJV649R.json: 'charmap' codec can't decode byte 0x9d in position 1679: character maps to <undefined>\n"
     ]
    },
    {
     "name": "stderr",
     "output_type": "stream",
     "text": [
      "  1%|██▉                                                                                                                                                                                                                           | 13885/1032524 [00:04<06:31, 2598.59it/s]"
     ]
    },
    {
     "name": "stdout",
     "output_type": "stream",
     "text": [
      "Error reading metadata\\meta-0zTEkAlLc7X5.json: 'charmap' codec can't decode byte 0x81 in position 1698: character maps to <undefined>\n"
     ]
    },
    {
     "name": "stderr",
     "output_type": "stream",
     "text": [
      "  2%|███▍                                                                                                                                                                                                                          | 15860/1032524 [00:05<06:40, 2539.74it/s]"
     ]
    },
    {
     "name": "stdout",
     "output_type": "stream",
     "text": [
      "Error reading metadata\\meta-17Hfx35mGdjy.json: 'charmap' codec can't decode byte 0x90 in position 4837: character maps to <undefined>\n"
     ]
    },
    {
     "name": "stderr",
     "output_type": "stream",
     "text": [
      "  2%|███▌                                                                                                                                                                                                                          | 16694/1032524 [00:05<06:27, 2618.23it/s]"
     ]
    },
    {
     "name": "stdout",
     "output_type": "stream",
     "text": [
      "Error reading metadata\\meta-1aLdmrjjAmnM.json: 'charmap' codec can't decode byte 0x81 in position 7846: character maps to <undefined>\n",
      "Error reading metadata\\meta-1BnIKn5cR7Pq.json: 'charmap' codec can't decode byte 0x81 in position 298: character maps to <undefined>\n"
     ]
    },
    {
     "name": "stderr",
     "output_type": "stream",
     "text": [
      "  2%|███▉                                                                                                                                                                                                                          | 18094/1032524 [00:05<06:20, 2663.50it/s]"
     ]
    },
    {
     "name": "stdout",
     "output_type": "stream",
     "text": [
      "Error reading metadata\\meta-1D9mT5YaYCPp.json: 'charmap' codec can't decode byte 0x81 in position 10255: character maps to <undefined>\n",
      "Error reading metadata\\meta-1D9YxO69jdi0.json: 'charmap' codec can't decode byte 0x9d in position 1658: character maps to <undefined>\n",
      "Error reading metadata\\meta-1EishNErmjx7.json: 'charmap' codec can't decode byte 0x81 in position 1700: character maps to <undefined>\n"
     ]
    },
    {
     "name": "stderr",
     "output_type": "stream",
     "text": [
      "  2%|███▉                                                                                                                                                                                                                          | 18362/1032524 [00:05<06:27, 2620.47it/s]"
     ]
    },
    {
     "name": "stdout",
     "output_type": "stream",
     "text": [
      "Error reading metadata\\meta-1Eo7yrOWISDX.json: 'charmap' codec can't decode byte 0x81 in position 1745: character maps to <undefined>\n"
     ]
    },
    {
     "name": "stderr",
     "output_type": "stream",
     "text": [
      "  2%|████▎                                                                                                                                                                                                                         | 19798/1032524 [00:06<06:19, 2667.56it/s]"
     ]
    },
    {
     "name": "stdout",
     "output_type": "stream",
     "text": [
      "Error reading metadata\\meta-1hsB6k5UlQqs.json: 'charmap' codec can't decode byte 0x8f in position 5514: character maps to <undefined>\n",
      "Error reading metadata\\meta-1HtzgnL0cFTT.json: 'charmap' codec can't decode byte 0x8f in position 13652: character maps to <undefined>\n",
      "Error reading metadata\\meta-1hZ2rl9lYUn3.json: 'charmap' codec can't decode byte 0x8d in position 8453: character maps to <undefined>\n",
      "Error reading metadata\\meta-1ISlOseg1TNR.json: 'charmap' codec can't decode byte 0x9d in position 1687: character maps to <undefined>\n",
      "Error reading metadata\\meta-1iVjxqwILEZ3.json: 'charmap' codec can't decode byte 0x8d in position 3423: character maps to <undefined>\n"
     ]
    },
    {
     "name": "stderr",
     "output_type": "stream",
     "text": [
      "  2%|████▍                                                                                                                                                                                                                         | 20590/1032524 [00:06<06:37, 2545.18it/s]"
     ]
    },
    {
     "name": "stdout",
     "output_type": "stream",
     "text": [
      "Error reading metadata\\meta-1JRjeVFDqqz6.json: 'charmap' codec can't decode byte 0x90 in position 12035: character maps to <undefined>\n"
     ]
    },
    {
     "name": "stderr",
     "output_type": "stream",
     "text": [
      "  2%|████▌                                                                                                                                                                                                                         | 21310/1032524 [00:07<07:40, 2195.21it/s]"
     ]
    },
    {
     "name": "stdout",
     "output_type": "stream",
     "text": [
      "Error reading metadata\\meta-1lfdP3D9ZUIt.json: 'charmap' codec can't decode byte 0x81 in position 7371: character maps to <undefined>\n"
     ]
    },
    {
     "name": "stderr",
     "output_type": "stream",
     "text": [
      "  2%|████▋                                                                                                                                                                                                                         | 21752/1032524 [00:07<10:03, 1674.89it/s]"
     ]
    },
    {
     "name": "stdout",
     "output_type": "stream",
     "text": [
      "Error reading metadata\\meta-1MX74puq4LVV.json: 'charmap' codec can't decode byte 0x8d in position 4320: character maps to <undefined>\n"
     ]
    },
    {
     "name": "stderr",
     "output_type": "stream",
     "text": [
      "  2%|████▊                                                                                                                                                                                                                         | 22415/1032524 [00:07<07:49, 2149.87it/s]"
     ]
    },
    {
     "name": "stdout",
     "output_type": "stream",
     "text": [
      "Error reading metadata\\meta-1NXSOw7J8NYx.json: 'charmap' codec can't decode byte 0x9d in position 5871: character maps to <undefined>\n"
     ]
    },
    {
     "name": "stderr",
     "output_type": "stream",
     "text": [
      "  2%|████▉                                                                                                                                                                                                                         | 22913/1032524 [00:08<08:07, 2069.50it/s]"
     ]
    },
    {
     "name": "stdout",
     "output_type": "stream",
     "text": [
      "Error reading metadata\\meta-1phElFL844Ry.json: 'charmap' codec can't decode byte 0x8f in position 3998: character maps to <undefined>\n",
      "Error reading metadata\\meta-1pPJ8DHTyAxR.json: 'charmap' codec can't decode byte 0x9d in position 1671: character maps to <undefined>\n"
     ]
    },
    {
     "name": "stderr",
     "output_type": "stream",
     "text": [
      "  2%|█████                                                                                                                                                                                                                         | 23345/1032524 [00:08<08:39, 1941.15it/s]"
     ]
    },
    {
     "name": "stdout",
     "output_type": "stream",
     "text": [
      "Error reading metadata\\meta-1QeSFr67Pyc6.json: 'charmap' codec can't decode byte 0x8d in position 4124: character maps to <undefined>\n",
      "Error reading metadata\\meta-1Qm82zMaImor.json: 'charmap' codec can't decode byte 0x81 in position 5914: character maps to <undefined>\n",
      "Error reading metadata\\meta-1QYKbt2zUpyF.json: 'charmap' codec can't decode byte 0x90 in position 1666: character maps to <undefined>\n"
     ]
    },
    {
     "name": "stderr",
     "output_type": "stream",
     "text": [
      "  2%|█████▏                                                                                                                                                                                                                        | 24235/1032524 [00:08<08:31, 1970.55it/s]"
     ]
    },
    {
     "name": "stdout",
     "output_type": "stream",
     "text": [
      "Error reading metadata\\meta-1RvYqXjlV41i.json: 'charmap' codec can't decode byte 0x90 in position 4147: character maps to <undefined>\n"
     ]
    },
    {
     "name": "stderr",
     "output_type": "stream",
     "text": [
      "  2%|█████▎                                                                                                                                                                                                                        | 24761/1032524 [00:08<08:35, 1953.42it/s]"
     ]
    },
    {
     "name": "stdout",
     "output_type": "stream",
     "text": [
      "Error reading metadata\\meta-1T7aAR29ILM3.json: 'charmap' codec can't decode byte 0x81 in position 1694: character maps to <undefined>\n",
      "Error reading metadata\\meta-1TOjrMe1v336.json: 'charmap' codec can't decode byte 0x9d in position 1635: character maps to <undefined>\n"
     ]
    },
    {
     "name": "stderr",
     "output_type": "stream",
     "text": [
      "  3%|█████▌                                                                                                                                                                                                                        | 26080/1032524 [00:09<07:22, 2272.47it/s]"
     ]
    },
    {
     "name": "stdout",
     "output_type": "stream",
     "text": [
      "Error reading metadata\\meta-1weyQpcjP9Uv.json: 'charmap' codec can't decode byte 0x90 in position 1736: character maps to <undefined>\n",
      "Error reading metadata\\meta-1WksWVF7JOG9.json: 'charmap' codec can't decode byte 0x90 in position 4836: character maps to <undefined>\n"
     ]
    },
    {
     "name": "stderr",
     "output_type": "stream",
     "text": [
      "  3%|█████▊                                                                                                                                                                                                                        | 27135/1032524 [00:09<07:08, 2344.39it/s]"
     ]
    },
    {
     "name": "stdout",
     "output_type": "stream",
     "text": [
      "Error reading metadata\\meta-1YRKoEGFLXZs.json: 'charmap' codec can't decode byte 0x9d in position 1709: character maps to <undefined>\n",
      "Error reading metadata\\meta-1zMqiKn5ticQ.json: 'charmap' codec can't decode byte 0x8d in position 7455: character maps to <undefined>\n"
     ]
    },
    {
     "name": "stderr",
     "output_type": "stream",
     "text": [
      "  3%|█████▉                                                                                                                                                                                                                        | 27658/1032524 [00:10<06:49, 2451.55it/s]"
     ]
    },
    {
     "name": "stdout",
     "output_type": "stream",
     "text": [
      "Error reading metadata\\meta-2085os3kUXJS.json: 'charmap' codec can't decode byte 0x9d in position 4958: character maps to <undefined>\n"
     ]
    },
    {
     "name": "stderr",
     "output_type": "stream",
     "text": [
      "  3%|██████▏                                                                                                                                                                                                                       | 28802/1032524 [00:10<06:33, 2553.16it/s]"
     ]
    },
    {
     "name": "stdout",
     "output_type": "stream",
     "text": [
      "Error reading metadata\\meta-240OJ7lAFC03.json: 'charmap' codec can't decode byte 0x90 in position 1736: character maps to <undefined>\n",
      "Error reading metadata\\meta-24qYf7rs7rAz.json: 'charmap' codec can't decode byte 0x90 in position 288: character maps to <undefined>\n",
      "Error reading metadata\\meta-24rCx0IlCQK7.json: 'charmap' codec can't decode byte 0x8d in position 3930: character maps to <undefined>\n"
     ]
    },
    {
     "name": "stderr",
     "output_type": "stream",
     "text": [
      "  3%|██████▍                                                                                                                                                                                                                       | 30165/1032524 [00:11<06:28, 2577.08it/s]"
     ]
    },
    {
     "name": "stdout",
     "output_type": "stream",
     "text": [
      "Error reading metadata\\meta-2A3YdMUZOVbd.json: 'charmap' codec can't decode byte 0x8d in position 14284: character maps to <undefined>\n"
     ]
    },
    {
     "name": "stderr",
     "output_type": "stream",
     "text": [
      "  3%|██████▋                                                                                                                                                                                                                       | 31203/1032524 [00:11<06:43, 2480.63it/s]"
     ]
    },
    {
     "name": "stdout",
     "output_type": "stream",
     "text": [
      "Error reading metadata\\meta-2cawPj8ceZHJ.json: 'charmap' codec can't decode byte 0x81 in position 1621: character maps to <undefined>\n",
      "Error reading metadata\\meta-2cdblT8Nr6WB.json: 'charmap' codec can't decode byte 0x9d in position 3326: character maps to <undefined>\n"
     ]
    },
    {
     "name": "stderr",
     "output_type": "stream",
     "text": [
      "  3%|██████▉                                                                                                                                                                                                                       | 31986/1032524 [00:11<06:45, 2469.82it/s]"
     ]
    },
    {
     "name": "stdout",
     "output_type": "stream",
     "text": [
      "Error reading metadata\\meta-2duDebsXpotc.json: 'charmap' codec can't decode byte 0x9d in position 338: character maps to <undefined>\n"
     ]
    },
    {
     "name": "stderr",
     "output_type": "stream",
     "text": [
      "  3%|███████                                                                                                                                                                                                                       | 33061/1032524 [00:12<06:39, 2500.16it/s]"
     ]
    },
    {
     "name": "stdout",
     "output_type": "stream",
     "text": [
      "Error reading metadata\\meta-2gDswrN06Q9V.json: 'charmap' codec can't decode byte 0x81 in position 2499: character maps to <undefined>\n",
      "Error reading metadata\\meta-2hbnPlFhKMPW.json: 'charmap' codec can't decode byte 0x90 in position 7194: character maps to <undefined>\n"
     ]
    },
    {
     "name": "stderr",
     "output_type": "stream",
     "text": [
      "  3%|███████▍                                                                                                                                                                                                                      | 34676/1032524 [00:13<06:35, 2523.72it/s]"
     ]
    },
    {
     "name": "stdout",
     "output_type": "stream",
     "text": [
      "Error reading metadata\\meta-2KGbpGdH66Et.json: 'charmap' codec can't decode byte 0x81 in position 4935: character maps to <undefined>\n"
     ]
    },
    {
     "name": "stderr",
     "output_type": "stream",
     "text": [
      "  3%|███████▋                                                                                                                                                                                                                      | 35568/1032524 [00:13<05:59, 2774.78it/s]"
     ]
    },
    {
     "name": "stdout",
     "output_type": "stream",
     "text": [
      "Error reading metadata\\meta-2mrrtp9J0Rcw.json: 'charmap' codec can't decode byte 0x9d in position 4539: character maps to <undefined>\n"
     ]
    },
    {
     "name": "stderr",
     "output_type": "stream",
     "text": [
      "  4%|████████                                                                                                                                                                                                                      | 37240/1032524 [00:13<06:45, 2453.51it/s]"
     ]
    },
    {
     "name": "stdout",
     "output_type": "stream",
     "text": [
      "Error reading metadata\\meta-2Qv1LchgypQ2.json: 'charmap' codec can't decode byte 0x81 in position 6251: character maps to <undefined>\n"
     ]
    },
    {
     "name": "stderr",
     "output_type": "stream",
     "text": [
      "  4%|████████▏                                                                                                                                                                                                                     | 38309/1032524 [00:14<06:47, 2437.19it/s]"
     ]
    },
    {
     "name": "stdout",
     "output_type": "stream",
     "text": [
      "Error reading metadata\\meta-2SsJHzmG8lsK.json: 'charmap' codec can't decode byte 0x8f in position 10955: character maps to <undefined>\n"
     ]
    },
    {
     "name": "stderr",
     "output_type": "stream",
     "text": [
      "  4%|████████▎                                                                                                                                                                                                                     | 38794/1032524 [00:14<07:46, 2129.93it/s]"
     ]
    },
    {
     "name": "stdout",
     "output_type": "stream",
     "text": [
      "Error reading metadata\\meta-2U9xGJEkpSNP.json: 'charmap' codec can't decode byte 0x8d in position 1678: character maps to <undefined>\n",
      "Error reading metadata\\meta-2UZ5ldmWSBVH.json: 'charmap' codec can't decode byte 0x8d in position 4600: character maps to <undefined>\n",
      "Error reading metadata\\meta-2v0yw75mNRV5.json: 'charmap' codec can't decode byte 0x9d in position 1781: character maps to <undefined>\n"
     ]
    },
    {
     "name": "stderr",
     "output_type": "stream",
     "text": [
      "  4%|████████▍                                                                                                                                                                                                                     | 39307/1032524 [00:14<08:07, 2037.38it/s]"
     ]
    },
    {
     "name": "stdout",
     "output_type": "stream",
     "text": [
      "Error reading metadata\\meta-2vlscXanVb4P.json: 'charmap' codec can't decode byte 0x8f in position 1487: character maps to <undefined>\n",
      "Error reading metadata\\meta-2w4gLL1Fwo27.json: 'charmap' codec can't decode byte 0x81 in position 4922: character maps to <undefined>\n"
     ]
    },
    {
     "name": "stderr",
     "output_type": "stream",
     "text": [
      "  4%|████████▌                                                                                                                                                                                                                     | 39730/1032524 [00:15<10:23, 1593.03it/s]"
     ]
    },
    {
     "name": "stdout",
     "output_type": "stream",
     "text": [
      "Error reading metadata\\meta-2ww0yfcfS0YA.json: 'charmap' codec can't decode byte 0x90 in position 2731: character maps to <undefined>\n",
      "Error reading metadata\\meta-2xGeZ54khXlz.json: 'charmap' codec can't decode byte 0x8f in position 2450: character maps to <undefined>\n"
     ]
    },
    {
     "name": "stderr",
     "output_type": "stream",
     "text": [
      "  4%|████████▉                                                                                                                                                                                                                     | 41554/1032524 [00:16<08:05, 2042.19it/s]"
     ]
    },
    {
     "name": "stdout",
     "output_type": "stream",
     "text": [
      "Error reading metadata\\meta-30YMX19WOgko.json: 'charmap' codec can't decode byte 0x81 in position 13306: character maps to <undefined>\n",
      "Error reading metadata\\meta-31LsIhmzaHPg.json: 'charmap' codec can't decode byte 0x8f in position 19692: character maps to <undefined>\n",
      "Error reading metadata\\meta-32JHeu949Glz.json: 'charmap' codec can't decode byte 0x81 in position 1649: character maps to <undefined>\n"
     ]
    },
    {
     "name": "stderr",
     "output_type": "stream",
     "text": [
      "  4%|█████████▏                                                                                                                                                                                                                    | 42902/1032524 [00:16<07:57, 2072.18it/s]"
     ]
    },
    {
     "name": "stdout",
     "output_type": "stream",
     "text": [
      "Error reading metadata\\meta-35C8gXucvugB.json: 'charmap' codec can't decode byte 0x8f in position 2095: character maps to <undefined>\n"
     ]
    },
    {
     "name": "stderr",
     "output_type": "stream",
     "text": [
      "  4%|█████████▎                                                                                                                                                                                                                    | 43351/1032524 [00:16<07:54, 2086.44it/s]"
     ]
    },
    {
     "name": "stdout",
     "output_type": "stream",
     "text": [
      "Error reading metadata\\meta-37EplCbvLQPl.json: 'charmap' codec can't decode byte 0x8f in position 1822: character maps to <undefined>\n"
     ]
    },
    {
     "name": "stderr",
     "output_type": "stream",
     "text": [
      "  4%|█████████▍                                                                                                                                                                                                                    | 43867/1032524 [00:17<07:33, 2178.10it/s]"
     ]
    },
    {
     "name": "stdout",
     "output_type": "stream",
     "text": [
      "Error reading metadata\\meta-39fH8mF990ku.json: 'charmap' codec can't decode byte 0x8d in position 4124: character maps to <undefined>\n"
     ]
    },
    {
     "name": "stderr",
     "output_type": "stream",
     "text": [
      "  4%|█████████▌                                                                                                                                                                                                                    | 44304/1032524 [00:17<08:35, 1915.20it/s]"
     ]
    },
    {
     "name": "stdout",
     "output_type": "stream",
     "text": [
      "Error reading metadata\\meta-3B2SPnBcIXX9.json: 'charmap' codec can't decode byte 0x81 in position 1703: character maps to <undefined>\n",
      "Error reading metadata\\meta-3B7wsaJVgqIw.json: 'charmap' codec can't decode byte 0x81 in position 4884: character maps to <undefined>\n"
     ]
    },
    {
     "name": "stderr",
     "output_type": "stream",
     "text": [
      "  4%|█████████▋                                                                                                                                                                                                                    | 45040/1032524 [00:17<07:43, 2131.91it/s]"
     ]
    },
    {
     "name": "stdout",
     "output_type": "stream",
     "text": [
      "Error reading metadata\\meta-3CBDSKU6DF7L.json: 'charmap' codec can't decode byte 0x9d in position 1662: character maps to <undefined>\n",
      "Error reading metadata\\meta-3cmFsefALTvc.json: 'charmap' codec can't decode byte 0x81 in position 6346: character maps to <undefined>\n",
      "Error reading metadata\\meta-3cthY4Kz6C0Q.json: 'charmap' codec can't decode byte 0x8d in position 7444: character maps to <undefined>\n"
     ]
    },
    {
     "name": "stderr",
     "output_type": "stream",
     "text": [
      "  4%|█████████▊                                                                                                                                                                                                                    | 45528/1032524 [00:17<07:48, 2108.51it/s]"
     ]
    },
    {
     "name": "stdout",
     "output_type": "stream",
     "text": [
      "Error reading metadata\\meta-3d3ck4DzV9H6.json: 'charmap' codec can't decode byte 0x9d in position 45718: character maps to <undefined>\n",
      "Error reading metadata\\meta-3E6tCjzgmH5q.json: 'charmap' codec can't decode byte 0x8f in position 8644: character maps to <undefined>\n",
      "Error reading metadata\\meta-3eCOOjKdH6DI.json: 'charmap' codec can't decode byte 0x90 in position 1659: character maps to <undefined>\n"
     ]
    },
    {
     "name": "stderr",
     "output_type": "stream",
     "text": [
      "  5%|██████████▏                                                                                                                                                                                                                   | 47409/1032524 [00:18<06:50, 2399.50it/s]"
     ]
    },
    {
     "name": "stdout",
     "output_type": "stream",
     "text": [
      "Error reading metadata\\meta-3HwU52aL8uGK.json: 'charmap' codec can't decode byte 0x8f in position 11899: character maps to <undefined>\n",
      "Error reading metadata\\meta-3iQGZiT400mh.json: 'charmap' codec can't decode byte 0x8f in position 4701: character maps to <undefined>\n"
     ]
    },
    {
     "name": "stderr",
     "output_type": "stream",
     "text": [
      "  5%|██████████▍                                                                                                                                                                                                                   | 48578/1032524 [00:19<09:10, 1787.94it/s]"
     ]
    },
    {
     "name": "stdout",
     "output_type": "stream",
     "text": [
      "Error reading metadata\\meta-3L7tYg89zDkv.json: 'charmap' codec can't decode byte 0x8f in position 1890: character maps to <undefined>\n",
      "Error reading metadata\\meta-3LRDaXJXTZ0I.json: 'charmap' codec can't decode byte 0x9d in position 1617: character maps to <undefined>\n"
     ]
    },
    {
     "name": "stderr",
     "output_type": "stream",
     "text": [
      "  5%|██████████▋                                                                                                                                                                                                                   | 49720/1032524 [00:19<08:20, 1964.10it/s]"
     ]
    },
    {
     "name": "stdout",
     "output_type": "stream",
     "text": [
      "Error reading metadata\\meta-3NR24FKAt4ra.json: 'charmap' codec can't decode byte 0x90 in position 4943: character maps to <undefined>\n",
      "Error reading metadata\\meta-3NSPcDqd0rHY.json: 'charmap' codec can't decode byte 0x9d in position 1662: character maps to <undefined>\n"
     ]
    },
    {
     "name": "stderr",
     "output_type": "stream",
     "text": [
      "  5%|██████████▊                                                                                                                                                                                                                   | 50125/1032524 [00:20<11:16, 1452.32it/s]"
     ]
    },
    {
     "name": "stdout",
     "output_type": "stream",
     "text": [
      "Error reading metadata\\meta-3oWig8C7T3YD.json: 'charmap' codec can't decode byte 0x9d in position 1744: character maps to <undefined>\n"
     ]
    },
    {
     "name": "stderr",
     "output_type": "stream",
     "text": [
      "  5%|███████████▍                                                                                                                                                                                                                  | 53447/1032524 [00:21<06:49, 2388.45it/s]"
     ]
    },
    {
     "name": "stdout",
     "output_type": "stream",
     "text": [
      "Error reading metadata\\meta-3VQBpPyE1KWZ.json: 'charmap' codec can't decode byte 0x9d in position 3798: character maps to <undefined>\n",
      "Error reading metadata\\meta-3wiPsVJ0Volz.json: 'charmap' codec can't decode byte 0x81 in position 5110: character maps to <undefined>\n"
     ]
    },
    {
     "name": "stderr",
     "output_type": "stream",
     "text": [
      "  5%|███████████▌                                                                                                                                                                                                                  | 53688/1032524 [00:21<07:02, 2318.27it/s]"
     ]
    },
    {
     "name": "stdout",
     "output_type": "stream",
     "text": [
      "Error reading metadata\\meta-3wWAaDS3OHiQ.json: 'charmap' codec can't decode byte 0x9d in position 3477: character maps to <undefined>\n",
      "Error reading metadata\\meta-3XluHZFNnIMH.json: 'charmap' codec can't decode byte 0x8f in position 2266: character maps to <undefined>\n"
     ]
    },
    {
     "name": "stderr",
     "output_type": "stream",
     "text": [
      "  5%|███████████▊                                                                                                                                                                                                                  | 55101/1032524 [00:22<06:21, 2564.90it/s]"
     ]
    },
    {
     "name": "stdout",
     "output_type": "stream",
     "text": [
      "Error reading metadata\\meta-407aUO9WorRU.json: 'charmap' codec can't decode byte 0x8d in position 4968: character maps to <undefined>\n"
     ]
    },
    {
     "name": "stderr",
     "output_type": "stream",
     "text": [
      "  5%|████████████                                                                                                                                                                                                                  | 56298/1032524 [00:22<06:16, 2589.74it/s]"
     ]
    },
    {
     "name": "stdout",
     "output_type": "stream",
     "text": [
      "Error reading metadata\\meta-43erwY5z9Myu.json: 'charmap' codec can't decode byte 0x9d in position 5871: character maps to <undefined>\n",
      "Error reading metadata\\meta-43IdklB8fVsf.json: 'charmap' codec can't decode byte 0x8d in position 5428: character maps to <undefined>\n"
     ]
    },
    {
     "name": "stderr",
     "output_type": "stream",
     "text": [
      "  6%|████████████▎                                                                                                                                                                                                                 | 57126/1032524 [00:23<06:06, 2659.15it/s]"
     ]
    },
    {
     "name": "stdout",
     "output_type": "stream",
     "text": [
      "Error reading metadata\\meta-47HVWlCxihyV.json: 'charmap' codec can't decode byte 0x9d in position 1803: character maps to <undefined>\n",
      "Error reading metadata\\meta-47jo261oAnQ1.json: 'charmap' codec can't decode byte 0x8d in position 3438: character maps to <undefined>\n"
     ]
    },
    {
     "name": "stderr",
     "output_type": "stream",
     "text": [
      "  6%|████████████▌                                                                                                                                                                                                                 | 58460/1032524 [00:23<06:32, 2481.20it/s]"
     ]
    },
    {
     "name": "stdout",
     "output_type": "stream",
     "text": [
      "Error reading metadata\\meta-4bndiEZAJB3Q.json: 'charmap' codec can't decode byte 0x81 in position 1817: character maps to <undefined>\n",
      "Error reading metadata\\meta-4cqU1lXZL4IG.json: 'charmap' codec can't decode byte 0x81 in position 340: character maps to <undefined>\n"
     ]
    },
    {
     "name": "stderr",
     "output_type": "stream",
     "text": [
      "  6%|████████████▊                                                                                                                                                                                                                 | 59328/1032524 [00:24<06:07, 2647.37it/s]"
     ]
    },
    {
     "name": "stdout",
     "output_type": "stream",
     "text": [
      "Error reading metadata\\meta-4cTg4depNDUO.json: 'charmap' codec can't decode byte 0x90 in position 13424: character maps to <undefined>\n",
      "Error reading metadata\\meta-4DNT813LwnYT.json: 'charmap' codec can't decode byte 0x8d in position 1733: character maps to <undefined>\n",
      "Error reading metadata\\meta-4dSsU84Nv9VA.json: 'charmap' codec can't decode byte 0x81 in position 40740: character maps to <undefined>\n",
      "Error reading metadata\\meta-4duazotbahnI.json: 'charmap' codec can't decode byte 0x81 in position 1668: character maps to <undefined>\n"
     ]
    },
    {
     "name": "stderr",
     "output_type": "stream",
     "text": [
      "  6%|████████████▉                                                                                                                                                                                                                 | 60180/1032524 [00:24<06:00, 2697.82it/s]"
     ]
    },
    {
     "name": "stdout",
     "output_type": "stream",
     "text": [
      "Error reading metadata\\meta-4eVevedzGEdN.json: 'charmap' codec can't decode byte 0x81 in position 1658: character maps to <undefined>\n",
      "Error reading metadata\\meta-4fsqaVrHiv0Z.json: 'charmap' codec can't decode byte 0x8d in position 7549: character maps to <undefined>\n"
     ]
    },
    {
     "name": "stderr",
     "output_type": "stream",
     "text": [
      "  6%|█████████████                                                                                                                                                                                                                 | 60772/1032524 [00:24<05:59, 2703.62it/s]"
     ]
    },
    {
     "name": "stdout",
     "output_type": "stream",
     "text": [
      "Error reading metadata\\meta-4GvZ4PP9GX6D.json: 'charmap' codec can't decode byte 0x81 in position 1679: character maps to <undefined>\n"
     ]
    },
    {
     "name": "stderr",
     "output_type": "stream",
     "text": [
      "  6%|█████████████▍                                                                                                                                                                                                                | 62494/1032524 [00:25<06:02, 2675.27it/s]"
     ]
    },
    {
     "name": "stdout",
     "output_type": "stream",
     "text": [
      "Error reading metadata\\meta-4Kn5Zgt0h4un.json: 'charmap' codec can't decode byte 0x90 in position 5843: character maps to <undefined>\n"
     ]
    },
    {
     "name": "stderr",
     "output_type": "stream",
     "text": [
      "  6%|█████████████▋                                                                                                                                                                                                                | 63582/1032524 [00:25<06:54, 2339.09it/s]"
     ]
    },
    {
     "name": "stdout",
     "output_type": "stream",
     "text": [
      "Error reading metadata\\meta-4NHfZRCrl5uD.json: 'charmap' codec can't decode byte 0x81 in position 21409: character maps to <undefined>\n",
      "Error reading metadata\\meta-4NlO1109lTgI.json: 'charmap' codec can't decode byte 0x8d in position 1670: character maps to <undefined>\n"
     ]
    },
    {
     "name": "stderr",
     "output_type": "stream",
     "text": [
      "  6%|█████████████▊                                                                                                                                                                                                                | 64244/1032524 [00:25<05:50, 2761.37it/s]"
     ]
    },
    {
     "name": "stdout",
     "output_type": "stream",
     "text": [
      "Error reading metadata\\meta-4P5a9WHG0iDx.json: 'charmap' codec can't decode byte 0x9d in position 13025: character maps to <undefined>\n",
      "Error reading metadata\\meta-4PVCaxguxxq8.json: 'charmap' codec can't decode byte 0x81 in position 7549: character maps to <undefined>\n"
     ]
    },
    {
     "name": "stderr",
     "output_type": "stream",
     "text": [
      "  6%|█████████████▉                                                                                                                                                                                                                | 65088/1032524 [00:26<06:28, 2490.73it/s]"
     ]
    },
    {
     "name": "stdout",
     "output_type": "stream",
     "text": [
      "Error reading metadata\\meta-4rcqG6TdNIai.json: 'charmap' codec can't decode byte 0x81 in position 1712: character maps to <undefined>\n",
      "Error reading metadata\\meta-4Se145Cnjbyg.json: 'charmap' codec can't decode byte 0x90 in position 8371: character maps to <undefined>\n"
     ]
    },
    {
     "name": "stderr",
     "output_type": "stream",
     "text": [
      "  6%|██████████████▏                                                                                                                                                                                                               | 66026/1032524 [00:26<05:50, 2756.32it/s]"
     ]
    },
    {
     "name": "stdout",
     "output_type": "stream",
     "text": [
      "Error reading metadata\\meta-4sNJlKNwxnBY.json: 'charmap' codec can't decode byte 0x8d in position 7940: character maps to <undefined>\n"
     ]
    },
    {
     "name": "stderr",
     "output_type": "stream",
     "text": [
      "  6%|██████████████▎                                                                                                                                                                                                               | 66587/1032524 [00:26<05:59, 2683.45it/s]"
     ]
    },
    {
     "name": "stdout",
     "output_type": "stream",
     "text": [
      "Error reading metadata\\meta-4U4iCxfPjob7.json: 'charmap' codec can't decode byte 0x9d in position 7149: character maps to <undefined>\n",
      "Error reading metadata\\meta-4V93HtIHR74y.json: 'charmap' codec can't decode byte 0x9d in position 14883: character maps to <undefined>\n"
     ]
    },
    {
     "name": "stderr",
     "output_type": "stream",
     "text": [
      "  7%|██████████████▋                                                                                                                                                                                                               | 68288/1032524 [00:27<06:09, 2607.93it/s]"
     ]
    },
    {
     "name": "stdout",
     "output_type": "stream",
     "text": [
      "Error reading metadata\\meta-4yHOsULYMsw2.json: 'charmap' codec can't decode byte 0x8f in position 4607: character maps to <undefined>\n"
     ]
    },
    {
     "name": "stderr",
     "output_type": "stream",
     "text": [
      "  7%|██████████████▉                                                                                                                                                                                                               | 69448/1032524 [00:27<05:54, 2718.23it/s]"
     ]
    },
    {
     "name": "stdout",
     "output_type": "stream",
     "text": [
      "Error reading metadata\\meta-51nfP4hs3MpE.json: 'charmap' codec can't decode byte 0x9d in position 1617: character maps to <undefined>\n",
      "Error reading metadata\\meta-526EReX7BZlJ.json: 'charmap' codec can't decode byte 0x81 in position 4110: character maps to <undefined>\n"
     ]
    },
    {
     "name": "stderr",
     "output_type": "stream",
     "text": [
      "  7%|███████████████                                                                                                                                                                                                               | 70325/1032524 [00:28<05:38, 2845.84it/s]"
     ]
    },
    {
     "name": "stdout",
     "output_type": "stream",
     "text": [
      "Error reading metadata\\meta-544ntHlFYjSq.json: 'charmap' codec can't decode byte 0x81 in position 5684: character maps to <undefined>\n",
      "Error reading metadata\\meta-54tPoxaAzcwZ.json: 'charmap' codec can't decode byte 0x90 in position 45067: character maps to <undefined>\n"
     ]
    },
    {
     "name": "stderr",
     "output_type": "stream",
     "text": [
      "  7%|███████████████▎                                                                                                                                                                                                              | 70931/1032524 [00:28<05:28, 2928.15it/s]"
     ]
    },
    {
     "name": "stdout",
     "output_type": "stream",
     "text": [
      "Error reading metadata\\meta-56EA3m1aYKaH.json: 'charmap' codec can't decode byte 0x90 in position 29225: character maps to <undefined>\n",
      "Error reading metadata\\meta-57vQdh1je6nb.json: 'charmap' codec can't decode byte 0x8d in position 7408: character maps to <undefined>\n",
      "Error reading metadata\\meta-57z9EwXHtDAD.json: 'charmap' codec can't decode byte 0x8d in position 6268: character maps to <undefined>\n"
     ]
    },
    {
     "name": "stderr",
     "output_type": "stream",
     "text": [
      "  7%|███████████████▍                                                                                                                                                                                                              | 72051/1032524 [00:28<06:00, 2664.41it/s]"
     ]
    },
    {
     "name": "stdout",
     "output_type": "stream",
     "text": [
      "Error reading metadata\\meta-5Alw255mItar.json: 'charmap' codec can't decode byte 0x81 in position 1699: character maps to <undefined>\n",
      "Error reading metadata\\meta-5AzHXYnL6yMI.json: 'charmap' codec can't decode byte 0x8d in position 1612: character maps to <undefined>\n"
     ]
    },
    {
     "name": "stderr",
     "output_type": "stream",
     "text": [
      "  7%|████████████████                                                                                                                                                                                                              | 74948/1032524 [00:29<05:53, 2709.83it/s]"
     ]
    },
    {
     "name": "stdout",
     "output_type": "stream",
     "text": [
      "Error reading metadata\\meta-5hk5BQufMfkW.json: 'charmap' codec can't decode byte 0x8f in position 3767: character maps to <undefined>\n",
      "Error reading metadata\\meta-5i15JeZH5KQm.json: 'charmap' codec can't decode byte 0x81 in position 5307: character maps to <undefined>\n"
     ]
    },
    {
     "name": "stderr",
     "output_type": "stream",
     "text": [
      "  7%|████████████████▎                                                                                                                                                                                                             | 75761/1032524 [00:30<06:20, 2512.13it/s]"
     ]
    },
    {
     "name": "stdout",
     "output_type": "stream",
     "text": [
      "Error reading metadata\\meta-5JMXN1LnuR3I.json: 'charmap' codec can't decode byte 0x90 in position 1667: character maps to <undefined>\n",
      "Error reading metadata\\meta-5jRyRM9953Ed.json: 'charmap' codec can't decode byte 0x9d in position 1619: character maps to <undefined>\n"
     ]
    },
    {
     "name": "stderr",
     "output_type": "stream",
     "text": [
      "  7%|████████████████▍                                                                                                                                                                                                             | 76643/1032524 [00:30<05:46, 2758.32it/s]"
     ]
    },
    {
     "name": "stdout",
     "output_type": "stream",
     "text": [
      "Error reading metadata\\meta-5lCpndmgzOqm.json: 'charmap' codec can't decode byte 0x9d in position 1592: character maps to <undefined>\n",
      "Error reading metadata\\meta-5LDIhpgFT8gN.json: 'charmap' codec can't decode byte 0x81 in position 8225: character maps to <undefined>\n"
     ]
    },
    {
     "name": "stderr",
     "output_type": "stream",
     "text": [
      "  8%|████████████████▋                                                                                                                                                                                                             | 77498/1032524 [00:30<06:02, 2637.42it/s]"
     ]
    },
    {
     "name": "stdout",
     "output_type": "stream",
     "text": [
      "Error reading metadata\\meta-5nmtQ1RLUHCb.json: 'charmap' codec can't decode byte 0x8d in position 6076: character maps to <undefined>\n",
      "Error reading metadata\\meta-5NuYdivqmx3U.json: 'charmap' codec can't decode byte 0x90 in position 5443: character maps to <undefined>\n"
     ]
    },
    {
     "name": "stderr",
     "output_type": "stream",
     "text": [
      "  8%|████████████████▊                                                                                                                                                                                                             | 78047/1032524 [00:31<06:49, 2330.50it/s]"
     ]
    },
    {
     "name": "stdout",
     "output_type": "stream",
     "text": [
      "Error reading metadata\\meta-5OXHM9Hul1h1.json: 'charmap' codec can't decode byte 0x81 in position 4922: character maps to <undefined>\n"
     ]
    },
    {
     "name": "stderr",
     "output_type": "stream",
     "text": [
      "  8%|█████████████████                                                                                                                                                                                                             | 79282/1032524 [00:31<06:02, 2632.15it/s]"
     ]
    },
    {
     "name": "stdout",
     "output_type": "stream",
     "text": [
      "Error reading metadata\\meta-5RkQsleYdPir.json: 'charmap' codec can't decode byte 0x8d in position 1757: character maps to <undefined>\n",
      "Error reading metadata\\meta-5RsEknz2aFlN.json: 'charmap' codec can't decode byte 0x8d in position 9941: character maps to <undefined>\n",
      "Error reading metadata\\meta-5SLiPbJRHX6b.json: 'charmap' codec can't decode byte 0x9d in position 1628: character maps to <undefined>\n"
     ]
    },
    {
     "name": "stderr",
     "output_type": "stream",
     "text": [
      "  8%|█████████████████▏                                                                                                                                                                                                            | 80150/1032524 [00:31<05:47, 2737.38it/s]"
     ]
    },
    {
     "name": "stdout",
     "output_type": "stream",
     "text": [
      "Error reading metadata\\meta-5T2a5k3Cmd1Q.json: 'charmap' codec can't decode byte 0x81 in position 1583: character maps to <undefined>\n"
     ]
    },
    {
     "name": "stderr",
     "output_type": "stream",
     "text": [
      "  8%|█████████████████▎                                                                                                                                                                                                            | 80426/1032524 [00:31<05:47, 2738.27it/s]"
     ]
    },
    {
     "name": "stdout",
     "output_type": "stream",
     "text": [
      "Error reading metadata\\meta-5uE3y95KXTMv.json: 'charmap' codec can't decode byte 0x9d in position 6806: character maps to <undefined>\n",
      "Error reading metadata\\meta-5uyrOjp9641J.json: 'charmap' codec can't decode byte 0x81 in position 5110: character maps to <undefined>\n"
     ]
    },
    {
     "name": "stderr",
     "output_type": "stream",
     "text": [
      "  8%|█████████████████▍                                                                                                                                                                                                            | 81280/1032524 [00:32<05:57, 2658.87it/s]"
     ]
    },
    {
     "name": "stdout",
     "output_type": "stream",
     "text": [
      "Error reading metadata\\meta-5vXCR6OuQ9bF.json: 'charmap' codec can't decode byte 0x9d in position 6587: character maps to <undefined>\n",
      "Error reading metadata\\meta-5WqBJyQz0sMA.json: 'charmap' codec can't decode byte 0x81 in position 14200: character maps to <undefined>\n",
      "Error reading metadata\\meta-5wxa1jGItdKq.json: 'charmap' codec can't decode byte 0x8d in position 20796: character maps to <undefined>\n"
     ]
    },
    {
     "name": "stderr",
     "output_type": "stream",
     "text": [
      "  8%|█████████████████▉                                                                                                                                                                                                            | 83664/1032524 [00:33<05:44, 2751.64it/s]"
     ]
    },
    {
     "name": "stdout",
     "output_type": "stream",
     "text": [
      "Error reading metadata\\meta-63EkSJjqROBt.json: 'charmap' codec can't decode byte 0x81 in position 9961: character maps to <undefined>\n",
      "Error reading metadata\\meta-63o92YkOSEWg.json: 'charmap' codec can't decode byte 0x9d in position 7167: character maps to <undefined>\n"
     ]
    },
    {
     "name": "stderr",
     "output_type": "stream",
     "text": [
      "  8%|██████████████████▏                                                                                                                                                                                                           | 84484/1032524 [00:33<06:02, 2617.55it/s]"
     ]
    },
    {
     "name": "stdout",
     "output_type": "stream",
     "text": [
      "Error reading metadata\\meta-6650ihukKTOq.json: 'charmap' codec can't decode byte 0x90 in position 4763: character maps to <undefined>\n"
     ]
    },
    {
     "name": "stderr",
     "output_type": "stream",
     "text": [
      "  8%|██████████████████▌                                                                                                                                                                                                           | 86163/1032524 [00:34<05:48, 2717.81it/s]"
     ]
    },
    {
     "name": "stdout",
     "output_type": "stream",
     "text": [
      "Error reading metadata\\meta-6bs6gbKUg7Ap.json: 'charmap' codec can't decode byte 0x81 in position 1674: character maps to <undefined>\n"
     ]
    },
    {
     "name": "stderr",
     "output_type": "stream",
     "text": [
      "  8%|██████████████████▋                                                                                                                                                                                                           | 87003/1032524 [00:34<05:43, 2748.84it/s]"
     ]
    },
    {
     "name": "stdout",
     "output_type": "stream",
     "text": [
      "Error reading metadata\\meta-6dNQu5ZioiTo.json: 'charmap' codec can't decode byte 0x81 in position 4205: character maps to <undefined>\n",
      "Error reading metadata\\meta-6Do2vX1WBZRv.json: 'charmap' codec can't decode byte 0x9d in position 9124: character maps to <undefined>\n"
     ]
    },
    {
     "name": "stderr",
     "output_type": "stream",
     "text": [
      "  9%|██████████████████▉                                                                                                                                                                                                           | 88229/1032524 [00:34<05:26, 2895.35it/s]"
     ]
    },
    {
     "name": "stdout",
     "output_type": "stream",
     "text": [
      "Error reading metadata\\meta-6G5OEcN3ZEfL.json: 'charmap' codec can't decode byte 0x8f in position 1684: character maps to <undefined>\n",
      "Error reading metadata\\meta-6GD1Nek3Gj9B.json: 'charmap' codec can't decode byte 0x9d in position 12733: character maps to <undefined>\n",
      "Error reading metadata\\meta-6GxErBF4QMUY.json: 'charmap' codec can't decode byte 0x8d in position 1728: character maps to <undefined>\n"
     ]
    },
    {
     "name": "stderr",
     "output_type": "stream",
     "text": [
      "  9%|███████████████████▍                                                                                                                                                                                                          | 90328/1032524 [00:35<05:33, 2823.52it/s]"
     ]
    },
    {
     "name": "stdout",
     "output_type": "stream",
     "text": [
      "Error reading metadata\\meta-6L2ORI7fmyKd.json: 'charmap' codec can't decode byte 0x81 in position 8202: character maps to <undefined>\n",
      "Error reading metadata\\meta-6ln4CcDnM5eO.json: 'charmap' codec can't decode byte 0x8d in position 6113: character maps to <undefined>\n"
     ]
    },
    {
     "name": "stderr",
     "output_type": "stream",
     "text": [
      "  9%|███████████████████▌                                                                                                                                                                                                          | 90904/1032524 [00:35<06:00, 2611.43it/s]"
     ]
    },
    {
     "name": "stdout",
     "output_type": "stream",
     "text": [
      "Error reading metadata\\meta-6mmuT1cD6u0j.json: 'charmap' codec can't decode byte 0x9d in position 288: character maps to <undefined>\n",
      "Error reading metadata\\meta-6MU5Yu6hVkGG.json: 'charmap' codec can't decode byte 0x90 in position 1604: character maps to <undefined>\n"
     ]
    },
    {
     "name": "stderr",
     "output_type": "stream",
     "text": [
      "  9%|███████████████████▉                                                                                                                                                                                                          | 92490/1032524 [00:36<05:17, 2959.25it/s]"
     ]
    },
    {
     "name": "stdout",
     "output_type": "stream",
     "text": [
      "Error reading metadata\\meta-6Q2LwTsGBXa2.json: 'charmap' codec can't decode byte 0x81 in position 29568: character maps to <undefined>\n",
      "Error reading metadata\\meta-6qP2uTGz5TTf.json: 'charmap' codec can't decode byte 0x90 in position 1671: character maps to <undefined>\n"
     ]
    },
    {
     "name": "stderr",
     "output_type": "stream",
     "text": [
      "  9%|████████████████████▎                                                                                                                                                                                                         | 94374/1032524 [00:36<03:17, 4742.63it/s]"
     ]
    },
    {
     "name": "stdout",
     "output_type": "stream",
     "text": [
      "Error reading metadata\\meta-6sO7DK1BkM5A.json: 'charmap' codec can't decode byte 0x90 in position 5295: character maps to <undefined>\n",
      "Error reading metadata\\meta-6u2Hdo36K9wD.json: 'charmap' codec can't decode byte 0x9d in position 1775: character maps to <undefined>\n"
     ]
    },
    {
     "name": "stderr",
     "output_type": "stream",
     "text": [
      "  9%|████████████████████▌                                                                                                                                                                                                         | 95889/1032524 [00:36<02:33, 6116.92it/s]"
     ]
    },
    {
     "name": "stdout",
     "output_type": "stream",
     "text": [
      "Error reading metadata\\meta-6WUNI5UgD5NP.json: 'charmap' codec can't decode byte 0x90 in position 6488: character maps to <undefined>\n",
      "Error reading metadata\\meta-6Xg5HfF7mpEZ.json: 'charmap' codec can't decode byte 0x8f in position 3768: character maps to <undefined>\n"
     ]
    },
    {
     "name": "stderr",
     "output_type": "stream",
     "text": [
      "  9%|████████████████████▋                                                                                                                                                                                                         | 96503/1032524 [00:37<02:46, 5629.56it/s]"
     ]
    },
    {
     "name": "stdout",
     "output_type": "stream",
     "text": [
      "Error reading metadata\\meta-707oHOfqZY87.json: 'charmap' codec can't decode byte 0x8d in position 1721: character maps to <undefined>\n",
      "Error reading metadata\\meta-71KisGJpKgSw.json: 'charmap' codec can't decode byte 0x8f in position 1731: character maps to <undefined>\n"
     ]
    },
    {
     "name": "stderr",
     "output_type": "stream",
     "text": [
      "  9%|█████████████████████                                                                                                                                                                                                         | 97990/1032524 [00:37<04:12, 3704.49it/s]"
     ]
    },
    {
     "name": "stdout",
     "output_type": "stream",
     "text": [
      "Error reading metadata\\meta-758FpV7Lbr3y.json: 'charmap' codec can't decode byte 0x90 in position 5306: character maps to <undefined>\n"
     ]
    },
    {
     "name": "stderr",
     "output_type": "stream",
     "text": [
      " 10%|█████████████████████▎                                                                                                                                                                                                        | 99103/1032524 [00:37<04:54, 3165.84it/s]"
     ]
    },
    {
     "name": "stdout",
     "output_type": "stream",
     "text": [
      "Error reading metadata\\meta-78zma6zKsYlF.json: 'charmap' codec can't decode byte 0x9d in position 1728: character maps to <undefined>\n",
      "Error reading metadata\\meta-79k60FsOG4H3.json: 'charmap' codec can't decode byte 0x90 in position 1671: character maps to <undefined>\n"
     ]
    },
    {
     "name": "stderr",
     "output_type": "stream",
     "text": [
      " 10%|█████████████████████▍                                                                                                                                                                                                        | 99749/1032524 [00:38<05:11, 2996.70it/s]"
     ]
    },
    {
     "name": "stdout",
     "output_type": "stream",
     "text": [
      "Error reading metadata\\meta-7aVfP7uNWnM3.json: 'charmap' codec can't decode byte 0x90 in position 1900: character maps to <undefined>\n",
      "Error reading metadata\\meta-7bMnTg417lLG.json: 'charmap' codec can't decode byte 0x9d in position 1710: character maps to <undefined>\n",
      "Error reading metadata\\meta-7bYvdHmcojVx.json: 'charmap' codec can't decode byte 0x90 in position 1736: character maps to <undefined>\n"
     ]
    },
    {
     "name": "stderr",
     "output_type": "stream",
     "text": [
      " 10%|█████████████████████▍                                                                                                                                                                                                       | 100354/1032524 [00:38<05:14, 2963.43it/s]"
     ]
    },
    {
     "name": "stdout",
     "output_type": "stream",
     "text": [
      "Error reading metadata\\meta-7CfYOpVNRknw.json: 'charmap' codec can't decode byte 0x9d in position 1588: character maps to <undefined>\n",
      "Error reading metadata\\meta-7crx8cMFBUFQ.json: 'charmap' codec can't decode byte 0x81 in position 6366: character maps to <undefined>\n",
      "Error reading metadata\\meta-7crxPBbuDw1C.json: 'charmap' codec can't decode byte 0x81 in position 6454: character maps to <undefined>\n",
      "Error reading metadata\\meta-7d6822WIrNVm.json: 'charmap' codec can't decode byte 0x81 in position 3449: character maps to <undefined>\n"
     ]
    },
    {
     "name": "stderr",
     "output_type": "stream",
     "text": [
      " 10%|█████████████████████▌                                                                                                                                                                                                       | 100946/1032524 [00:38<05:39, 2747.70it/s]"
     ]
    },
    {
     "name": "stdout",
     "output_type": "stream",
     "text": [
      "Error reading metadata\\meta-7dUKT2jMpGen.json: 'charmap' codec can't decode byte 0x81 in position 10458: character maps to <undefined>\n"
     ]
    },
    {
     "name": "stderr",
     "output_type": "stream",
     "text": [
      " 10%|█████████████████████▋                                                                                                                                                                                                       | 101526/1032524 [00:38<05:39, 2743.27it/s]"
     ]
    },
    {
     "name": "stdout",
     "output_type": "stream",
     "text": [
      "Error reading metadata\\meta-7fCtG5cHnr5c.json: 'charmap' codec can't decode byte 0x9d in position 1667: character maps to <undefined>\n",
      "Error reading metadata\\meta-7G7VdurX7Jqe.json: 'charmap' codec can't decode byte 0x81 in position 5307: character maps to <undefined>\n"
     ]
    },
    {
     "name": "stderr",
     "output_type": "stream",
     "text": [
      " 10%|██████████████████████                                                                                                                                                                                                       | 102992/1032524 [00:39<05:35, 2774.51it/s]"
     ]
    },
    {
     "name": "stdout",
     "output_type": "stream",
     "text": [
      "Error reading metadata\\meta-7iDWzBbpdoCR.json: 'charmap' codec can't decode byte 0x81 in position 7736: character maps to <undefined>\n"
     ]
    },
    {
     "name": "stderr",
     "output_type": "stream",
     "text": [
      " 10%|██████████████████████▏                                                                                                                                                                                                      | 103824/1032524 [00:39<05:45, 2684.71it/s]"
     ]
    },
    {
     "name": "stdout",
     "output_type": "stream",
     "text": [
      "Error reading metadata\\meta-7kDeTiblS6Y7.json: 'charmap' codec can't decode byte 0x9d in position 5102: character maps to <undefined>\n",
      "Error reading metadata\\meta-7ksMDDVhX2h1.json: 'charmap' codec can't decode byte 0x8f in position 25313: character maps to <undefined>\n",
      "Error reading metadata\\meta-7L3kQoTc8bMy.json: 'charmap' codec can't decode byte 0x8d in position 7558: character maps to <undefined>\n"
     ]
    },
    {
     "name": "stderr",
     "output_type": "stream",
     "text": [
      " 10%|██████████████████████▎                                                                                                                                                                                                      | 104400/1032524 [00:39<05:46, 2679.55it/s]"
     ]
    },
    {
     "name": "stdout",
     "output_type": "stream",
     "text": [
      "Error reading metadata\\meta-7lrtlCFI2Tkp.json: 'charmap' codec can't decode byte 0x9d in position 1937: character maps to <undefined>\n",
      "Error reading metadata\\meta-7MHu0hFu1Er8.json: 'charmap' codec can't decode byte 0x90 in position 4838: character maps to <undefined>\n",
      "Error reading metadata\\meta-7mvmxJ1y4Gxd.json: 'charmap' codec can't decode byte 0x81 in position 3680: character maps to <undefined>\n",
      "Error reading metadata\\meta-7MxMMbNub6xH.json: 'charmap' codec can't decode byte 0x81 in position 14270: character maps to <undefined>\n"
     ]
    },
    {
     "name": "stderr",
     "output_type": "stream",
     "text": [
      " 10%|██████████████████████▌                                                                                                                                                                                                      | 105571/1032524 [00:40<05:28, 2818.81it/s]"
     ]
    },
    {
     "name": "stdout",
     "output_type": "stream",
     "text": [
      "Error reading metadata\\meta-7Oe7fNJYBUjz.json: 'charmap' codec can't decode byte 0x81 in position 1668: character maps to <undefined>\n"
     ]
    },
    {
     "name": "stderr",
     "output_type": "stream",
     "text": [
      " 10%|██████████████████████▊                                                                                                                                                                                                      | 106745/1032524 [00:40<05:23, 2864.08it/s]"
     ]
    },
    {
     "name": "stdout",
     "output_type": "stream",
     "text": [
      "Error reading metadata\\meta-7qXEGe6NTWyP.json: 'charmap' codec can't decode byte 0x8f in position 4029: character maps to <undefined>\n"
     ]
    },
    {
     "name": "stderr",
     "output_type": "stream",
     "text": [
      " 10%|███████████████████████                                                                                                                                                                                                      | 107872/1032524 [00:41<05:47, 2659.45it/s]"
     ]
    },
    {
     "name": "stdout",
     "output_type": "stream",
     "text": [
      "Error reading metadata\\meta-7TMS5WXkY0lo.json: 'charmap' codec can't decode byte 0x8f in position 4031: character maps to <undefined>\n"
     ]
    },
    {
     "name": "stderr",
     "output_type": "stream",
     "text": [
      " 11%|███████████████████████▏                                                                                                                                                                                                     | 108460/1032524 [00:41<05:31, 2785.48it/s]"
     ]
    },
    {
     "name": "stdout",
     "output_type": "stream",
     "text": [
      "Error reading metadata\\meta-7v5IudDD1Dzw.json: 'charmap' codec can't decode byte 0x9d in position 18099: character maps to <undefined>\n",
      "Error reading metadata\\meta-7vNx61Fhwryz.json: 'charmap' codec can't decode byte 0x90 in position 1736: character maps to <undefined>\n"
     ]
    },
    {
     "name": "stderr",
     "output_type": "stream",
     "text": [
      " 11%|███████████████████████▍                                                                                                                                                                                                     | 109360/1032524 [00:41<05:21, 2871.08it/s]"
     ]
    },
    {
     "name": "stdout",
     "output_type": "stream",
     "text": [
      "Error reading metadata\\meta-7XEMdFfIXE83.json: 'charmap' codec can't decode byte 0x81 in position 6292: character maps to <undefined>\n",
      "Error reading metadata\\meta-7YmkxlmBfU2P.json: 'charmap' codec can't decode byte 0x81 in position 25084: character maps to <undefined>\n"
     ]
    },
    {
     "name": "stderr",
     "output_type": "stream",
     "text": [
      " 11%|███████████████████████▌                                                                                                                                                                                                     | 109969/1032524 [00:41<05:14, 2929.20it/s]"
     ]
    },
    {
     "name": "stdout",
     "output_type": "stream",
     "text": [
      "Error reading metadata\\meta-7ytajsnBzmUt.json: 'charmap' codec can't decode byte 0x8f in position 3754: character maps to <undefined>\n"
     ]
    },
    {
     "name": "stderr",
     "output_type": "stream",
     "text": [
      " 11%|███████████████████████▊                                                                                                                                                                                                     | 111372/1032524 [00:42<05:43, 2677.90it/s]"
     ]
    },
    {
     "name": "stdout",
     "output_type": "stream",
     "text": [
      "Error reading metadata\\meta-83UkMVsGlTyW.json: 'charmap' codec can't decode byte 0x90 in position 6073: character maps to <undefined>\n"
     ]
    },
    {
     "name": "stderr",
     "output_type": "stream",
     "text": [
      " 11%|███████████████████████▉                                                                                                                                                                                                     | 111948/1032524 [00:42<05:36, 2734.93it/s]"
     ]
    },
    {
     "name": "stdout",
     "output_type": "stream",
     "text": [
      "Error reading metadata\\meta-86yfIjEqrkb7.json: 'charmap' codec can't decode byte 0x8d in position 1687: character maps to <undefined>\n",
      "Error reading metadata\\meta-873uNnDDrDLB.json: 'charmap' codec can't decode byte 0x81 in position 5078: character maps to <undefined>\n",
      "Error reading metadata\\meta-884FouoUQmAC.json: 'charmap' codec can't decode byte 0x81 in position 10054: character maps to <undefined>\n"
     ]
    },
    {
     "name": "stderr",
     "output_type": "stream",
     "text": [
      " 11%|████████████████████████▏                                                                                                                                                                                                    | 113138/1032524 [00:42<05:38, 2715.93it/s]"
     ]
    },
    {
     "name": "stdout",
     "output_type": "stream",
     "text": [
      "Error reading metadata\\meta-8ax2ovsJYaYc.json: 'charmap' codec can't decode byte 0x90 in position 1671: character maps to <undefined>\n"
     ]
    },
    {
     "name": "stderr",
     "output_type": "stream",
     "text": [
      " 11%|████████████████████████▊                                                                                                                                                                                                    | 115670/1032524 [00:43<05:28, 2786.94it/s]"
     ]
    },
    {
     "name": "stdout",
     "output_type": "stream",
     "text": [
      "Error reading metadata\\meta-8I3sM3KpRtUl.json: 'charmap' codec can't decode byte 0x81 in position 7736: character maps to <undefined>\n",
      "Error reading metadata\\meta-8jucLcgWeI5B.json: 'charmap' codec can't decode byte 0x9d in position 4958: character maps to <undefined>\n"
     ]
    },
    {
     "name": "stderr",
     "output_type": "stream",
     "text": [
      " 11%|████████████████████████▊                                                                                                                                                                                                    | 115949/1032524 [00:44<05:38, 2706.21it/s]"
     ]
    },
    {
     "name": "stdout",
     "output_type": "stream",
     "text": [
      "Error reading metadata\\meta-8JXQ6h9bnjz2.json: 'charmap' codec can't decode byte 0x8f in position 4029: character maps to <undefined>\n",
      "Error reading metadata\\meta-8KdvHYDQKMnA.json: 'charmap' codec can't decode byte 0x8d in position 16933: character maps to <undefined>\n"
     ]
    },
    {
     "name": "stderr",
     "output_type": "stream",
     "text": [
      " 11%|█████████████████████████                                                                                                                                                                                                    | 116865/1032524 [00:44<05:21, 2845.62it/s]"
     ]
    },
    {
     "name": "stdout",
     "output_type": "stream",
     "text": [
      "Error reading metadata\\meta-8LqXm0dkOe2w.json: 'charmap' codec can't decode byte 0x90 in position 9275: character maps to <undefined>\n",
      "Error reading metadata\\meta-8ltQ5120yrwG.json: 'charmap' codec can't decode byte 0x81 in position 7846: character maps to <undefined>\n",
      "Error reading metadata\\meta-8MxqlRsgP8p7.json: 'charmap' codec can't decode byte 0x8d in position 7577: character maps to <undefined>\n"
     ]
    },
    {
     "name": "stderr",
     "output_type": "stream",
     "text": [
      " 11%|█████████████████████████▎                                                                                                                                                                                                   | 118012/1032524 [00:44<05:36, 2720.60it/s]"
     ]
    },
    {
     "name": "stdout",
     "output_type": "stream",
     "text": [
      "Error reading metadata\\meta-8pHPC3znqMK3.json: 'charmap' codec can't decode byte 0x81 in position 7371: character maps to <undefined>\n",
      "Error reading metadata\\meta-8qJhr0iEmjw5.json: 'charmap' codec can't decode byte 0x8d in position 4287: character maps to <undefined>\n"
     ]
    },
    {
     "name": "stderr",
     "output_type": "stream",
     "text": [
      " 11%|█████████████████████████▍                                                                                                                                                                                                   | 118623/1032524 [00:44<05:28, 2782.50it/s]"
     ]
    },
    {
     "name": "stdout",
     "output_type": "stream",
     "text": [
      "Error reading metadata\\meta-8R8R7uscya1y.json: 'charmap' codec can't decode byte 0x9d in position 31033: character maps to <undefined>\n",
      "Error reading metadata\\meta-8rdkMH7hImxv.json: 'charmap' codec can't decode byte 0x8f in position 55514: character maps to <undefined>\n"
     ]
    },
    {
     "name": "stderr",
     "output_type": "stream",
     "text": [
      " 12%|█████████████████████████▌                                                                                                                                                                                                   | 119519/1032524 [00:45<05:19, 2854.29it/s]"
     ]
    },
    {
     "name": "stdout",
     "output_type": "stream",
     "text": [
      "Error reading metadata\\meta-8uu1FHkSOgrG.json: 'charmap' codec can't decode byte 0x9d in position 1710: character maps to <undefined>\n"
     ]
    },
    {
     "name": "stderr",
     "output_type": "stream",
     "text": [
      " 12%|█████████████████████████▋                                                                                                                                                                                                   | 119805/1032524 [00:45<06:23, 2382.60it/s]"
     ]
    }
   ],
   "source": [
    "import json\n",
    "from pathlib import Path\n",
    "from concurrent.futures import ThreadPoolExecutor\n",
    "from tqdm import tqdm\n",
    "\n",
    "\n",
    "def get_keys_from_file(path):\n",
    "    try:\n",
    "        with open(path) as f:\n",
    "            data = json.load(f)\n",
    "            # Flatten to list if not already\n",
    "            records = data if isinstance(data, list) else [data]\n",
    "            keys = set()\n",
    "            for row in records:\n",
    "                keys.update(row.keys())\n",
    "            return keys\n",
    "    except Exception as e:\n",
    "        print(f\"Error reading {path}: {e}\")\n",
    "        return set()\n",
    "\n",
    "# Multithreaded collection\n",
    "all_columns = set()\n",
    "with ThreadPoolExecutor() as executor:\n",
    "    for keys in tqdm(executor.map(get_keys_from_file, json_files), total=len(json_files)):\n",
    "        all_columns.update(keys)\n",
    "\n",
    "all_columns = sorted(all_columns)\n",
    "print(f\"Discovered {len(all_columns)} columns.\")\n"
   ]
  },
  {
   "cell_type": "code",
   "execution_count": 8,
   "id": "6ab86add",
   "metadata": {},
   "outputs": [],
   "source": [
    "import csv\n",
    "\n",
    "with open(\"merged_output1.csv\", newline='', encoding='utf-8') as f:\n",
    "    reader = csv.reader(f)\n",
    "    all_columns = next(reader)  # this grabs the first row as the header\n"
   ]
  },
  {
   "cell_type": "code",
   "execution_count": null,
   "id": "26af414c",
   "metadata": {},
   "outputs": [
    {
     "name": "stderr",
     "output_type": "stream",
     "text": [
      "Exporting to CSV:  11%|█████████████████████▊                                                                                                                                                                                     | 110930/1032524 [01:29<08:33, 1793.63it/s]"
     ]
    }
   ],
   "source": [
    "import csv\n",
    "import orjson\n",
    "from tqdm import tqdm\n",
    "\n",
    "output_csv = \"merged_output.csv\"\n",
    "all_columns_with_file = all_columns + [\"source_file\"]\n",
    "\n",
    "batch_size = 1000\n",
    "rows_batch = []\n",
    "\n",
    "with open(output_csv, 'w', newline='', encoding='utf-8') as out_f:\n",
    "    writer = csv.DictWriter(out_f, fieldnames=all_columns_with_file)\n",
    "    writer.writeheader()\n",
    "\n",
    "    for file_path in tqdm(json_files, desc=\"Exporting to CSV\"):\n",
    "        try:\n",
    "            with open(file_path, 'rb') as f:\n",
    "                data = orjson.loads(f.read())\n",
    "                records = data if isinstance(data, list) else [data]\n",
    "\n",
    "            rows_batch.extend(\n",
    "                {**{col: record.get(col, None) for col in all_columns}, \"source_file\": file_path.name}\n",
    "                for record in records\n",
    "            )\n",
    "\n",
    "            if len(rows_batch) >= batch_size:\n",
    "                writer.writerows(rows_batch)\n",
    "                rows_batch.clear()\n",
    "\n",
    "        except Exception as e:\n",
    "            print(f\"Error writing {file_path.name}: {e}\")\n",
    "\n",
    "    # write leftover rows\n",
    "    if rows_batch:\n",
    "        writer.writerows(rows_batch)\n"
   ]
  },
  {
   "cell_type": "code",
   "execution_count": 5,
   "id": "e03c66ff",
   "metadata": {},
   "outputs": [],
   "source": [
    "import pandas as pd\n",
    "\n",
    "df = pd.read_csv('merged_output.csv', nrows=30)"
   ]
  },
  {
   "cell_type": "code",
   "execution_count": 6,
   "id": "98b27853",
   "metadata": {},
   "outputs": [],
   "source": [
    "df.to_csv('merged_output_sample.csv', index=False)"
   ]
  }
 ],
 "metadata": {
  "kernelspec": {
   "display_name": "scraper",
   "language": "python",
   "name": "python3"
  },
  "language_info": {
   "codemirror_mode": {
    "name": "ipython",
    "version": 3
   },
   "file_extension": ".py",
   "mimetype": "text/x-python",
   "name": "python",
   "nbconvert_exporter": "python",
   "pygments_lexer": "ipython3",
   "version": "3.9.21"
  }
 },
 "nbformat": 4,
 "nbformat_minor": 5
}
