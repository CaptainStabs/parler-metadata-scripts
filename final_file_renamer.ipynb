{
 "cells": [
  {
   "cell_type": "code",
   "execution_count": 16,
   "id": "9d6bade6",
   "metadata": {},
   "outputs": [],
   "source": [
    "import polars as pl"
   ]
  },
  {
   "cell_type": "code",
   "execution_count": 17,
   "id": "4fcb6524",
   "metadata": {},
   "outputs": [],
   "source": [
    "lf = pl.read_csv(\"merged_output.csv\", has_header=True, ignore_errors=True).lazy()\n"
   ]
  },
  {
   "cell_type": "code",
   "execution_count": 18,
   "id": "11f6367a",
   "metadata": {},
   "outputs": [],
   "source": [
    "lf = lf.rename({\n",
    "    \"Grouping\": \"GroupingCol\",\n",
    "    \"BroadcasterChannelConfigurationVideoDontUseDefaultMixerResolution\": \"BroadCasterChannelShortened\",\n",
    "    \"ClipMainUserAreaAcquisitionMetadataCameraUnitMetadataGammaCaptureGamma\": \"ClipMainUserAreaAcquisitionMetadataShortened\",\n",
    "    # \"ClipMainUserAreaAcquisitionMetadataCameraUnitMetadataGammaCaptureGammaValue\": \"ClipMainUserAreaAcquisitionMetadataShortenedValue\",\n",
    "    \"PantryCircularGradientBasedCorrectionsCorrectionRangeMaskColorAmount\": \"PantryCircularGradientBasedShortened\",\n",
    "    \"PantryCircularGradientBasedCorrectionsCorrectionRangeMaskDepthFeather\": \"PCGC_CRM_DepthFeather\",\n",
    "    \"PantryCircularGradientBasedCorrectionsCorrectionRangeMaskDepthMax\": \"PCGC_CRM_DepthMax\",\n",
    "    \"PantryCircularGradientBasedCorrectionsCorrectionRangeMaskDepthMin\": \"PCGC_CRM_DepthMin\",\n",
    "    \"PantryCircularGradientBasedCorrectionsCorrectionRangeMaskLumFeather\": \"PCGC_CRM_LumFeather\",\n",
    "    \"PantryCircularGradientBasedCorrectionsCorrectionRangeMaskLumMax\": \"PCGC_CRM_LumMax\",\n",
    "    \"PantryCircularGradientBasedCorrectionsCorrectionRangeMaskLumMin\": \"PCGC_CRM_LumMin\",\n",
    "    \"PantryCircularGradientBasedCorrectionsCorrectionRangeMaskPointModels\": \"PCGC_CRM_PointModels\",\n",
    "    \"PantryCircularGradientBasedCorrectionsCorrectionRangeMaskType\": \"PCGC_CRM_Type\",\n",
    "    \"PantryCircularGradientBasedCorrectionsCorrectionRangeMaskVersion\": \"PCGC_CRM_Version\",\n",
    "    \"PantryCircularGradientBasedCorrectionsLocalBlacks2012\": \"PCGC_LocalBlacks2012\",\n",
    "    \"PantryCircularGradientBasedCorrectionsLocalDehaze\": \"PCGC_LocalDehaze\",\n",
    "    \"PantryCircularGradientBasedCorrectionsLocalHue\": \"PCGC_LocalHue\",\n",
    "    \"PantryCircularGradientBasedCorrectionsLocalTexture\": \"PCGC_LocalTexture\",\n",
    "    \"PantryCircularGradientBasedCorrectionsLocalWhites2012\": \"PCGC_LocalWhites2012\"\n",
    "})"
   ]
  },
  {
   "cell_type": "code",
   "execution_count": 20,
   "id": "a4f1d3aa",
   "metadata": {},
   "outputs": [],
   "source": [
    "# Step 3: Collect into memory (must collect before writing)\n",
    "df = lf.collect()\n",
    "\n",
    "# Step 4: Write the DataFrame back to a new CSV\n",
    "df.write_csv(\"renamed_output.csv\")"
   ]
  },
  {
   "cell_type": "markdown",
   "id": "415a2a0a",
   "metadata": {},
   "source": [
    "# Remove duplicate sql table stuff"
   ]
  },
  {
   "cell_type": "code",
   "execution_count": null,
   "id": "a1bb6d16",
   "metadata": {},
   "outputs": [
    {
     "name": "stdout",
     "output_type": "stream",
     "text": [
      "Deduplicated SQL written to: table_creation_dedupe.sql\n"
     ]
    }
   ],
   "source": [
    "import re\n",
    "\n",
    "def deduplicate_sql_columns(input_path, output_path):\n",
    "    with open(input_path, \"r\", encoding=\"utf-8\") as f:\n",
    "        sql = f.read()\n",
    "\n",
    "    # Find the CREATE TABLE block with contents inside ()\n",
    "    match = re.search(r'CREATE\\s+TABLE\\s+\\w+\\s*\\((.*?)(\\);)', sql, re.IGNORECASE | re.DOTALL)\n",
    "    if not match:\n",
    "        print(\"CREATE TABLE block not found.\")\n",
    "        return\n",
    "\n",
    "    columns_block = match.group(1)\n",
    "    closing = match.group(2)\n",
    "\n",
    "    # Split into lines and deduplicate by column name\n",
    "    seen = set()\n",
    "    deduped_lines = []\n",
    "    for line in columns_block.splitlines():\n",
    "        stripped = line.strip()\n",
    "        if not stripped:\n",
    "            continue\n",
    "\n",
    "        col_match = re.match(r'^(\\w+)\\s+', stripped)\n",
    "        if col_match:\n",
    "            col_name = col_match.group(1)\n",
    "            if col_name not in seen:\n",
    "                seen.add(col_name)\n",
    "                deduped_lines.append(line.rstrip(\", \\n\") + \",\")\n",
    "            else:\n",
    "                print(f\"Duplicate column removed: {col_name}\")\n",
    "        else:\n",
    "            deduped_lines.append(line)  # fallback for malformed lines\n",
    "\n",
    "    # Remove trailing comma from the last column\n",
    "    if deduped_lines:\n",
    "        deduped_lines[-1] = deduped_lines[-1].rstrip(\",\")  # last line no comma\n",
    "\n",
    "    # Rebuild and write output\n",
    "    start = sql[:match.start(1)]\n",
    "    end = closing + sql[match.end(2):]\n",
    "    deduped_sql = start + \"\\n   \" + \"\\n   \".join(deduped_lines) + \"\\n\" + end\n",
    "\n",
    "    with open(output_path, \"w\", encoding=\"utf-8\") as f:\n",
    "        f.write(deduped_sql)\n",
    "\n",
    "    print(f\"Deduplicated SQL written to: {output_path}\")\n",
    "\n",
    "# Usage\n",
    "deduplicate_sql_columns(\"table_creation.sql\", \"table_creation_dedupe.sql\")\n"
   ]
  },
  {
   "cell_type": "code",
   "execution_count": null,
   "id": "5df62b83",
   "metadata": {},
   "outputs": [
    {
     "name": "stdout",
     "output_type": "stream",
     "text": [
      "Fixed commas written to: fixed_commas_table.sql\n"
     ]
    }
   ],
   "source": [
    "import re\n",
    "\n",
    "def fix_column_commas(input_path, output_path):\n",
    "    with open(input_path, \"r\", encoding=\"utf-8\") as f:\n",
    "        lines = f.readlines()\n",
    "\n",
    "    fixed_lines = []\n",
    "    buffer = []\n",
    "\n",
    "    for line in lines:\n",
    "        # Trim newline for easier processing\n",
    "        stripped = line.rstrip(\"\\n\")\n",
    "\n",
    "        # If line starts with a comma, move it to end of previous line\n",
    "        if re.match(r'^\\s*,', stripped) and buffer:\n",
    "            # Remove leading comma\n",
    "            stripped = re.sub(r'^\\s*,\\s*', '', stripped)\n",
    "            # Add comma to previous buffered line\n",
    "            buffer[-1] = buffer[-1].rstrip(',') + ','\n",
    "        \n",
    "        buffer.append(stripped)\n",
    "\n",
    "    # Add commas to all but last column line inside CREATE TABLE\n",
    "    in_create = False\n",
    "    for i, line in enumerate(buffer):\n",
    "        if re.search(r'CREATE\\s+TABLE\\s+\\w+\\s*\\(', line, re.IGNORECASE):\n",
    "            in_create = True\n",
    "            fixed_lines.append(line)\n",
    "            continue\n",
    "\n",
    "        if in_create:\n",
    "            if line.strip().startswith(\")\"):\n",
    "                in_create = False\n",
    "                fixed_lines.append(line)\n",
    "                continue\n",
    "\n",
    "            # For lines inside CREATE TABLE block, ensure comma except last before \")\"\n",
    "            next_line = buffer[i + 1] if i + 1 < len(buffer) else \"\"\n",
    "            if not line.rstrip().endswith(\",\") and not next_line.strip().startswith(\")\"):\n",
    "                line += \",\"\n",
    "\n",
    "        fixed_lines.append(line)\n",
    "\n",
    "    # Write to output\n",
    "    with open(output_path, \"w\", encoding=\"utf-8\") as f:\n",
    "        for line in fixed_lines:\n",
    "            f.write(line + \"\\n\")\n",
    "\n",
    "    print(f\"Fixed commas written to: {output_path}\")\n",
    "\n",
    "# Example usage:\n",
    "fix_column_commas(\"table_creation_dedupe.sql\", \"fixed_commas_table.sql\")\n"
   ]
  }
 ],
 "metadata": {
  "kernelspec": {
   "display_name": "scraper",
   "language": "python",
   "name": "python3"
  },
  "language_info": {
   "codemirror_mode": {
    "name": "ipython",
    "version": 3
   },
   "file_extension": ".py",
   "mimetype": "text/x-python",
   "name": "python",
   "nbconvert_exporter": "python",
   "pygments_lexer": "ipython3",
   "version": "3.9.21"
  }
 },
 "nbformat": 4,
 "nbformat_minor": 5
}
